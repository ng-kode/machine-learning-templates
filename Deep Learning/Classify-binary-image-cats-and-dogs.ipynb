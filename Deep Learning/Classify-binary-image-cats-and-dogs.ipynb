{
 "cells": [
  {
   "cell_type": "code",
   "execution_count": 2,
   "metadata": {},
   "outputs": [],
   "source": [
    "import os, shutil"
   ]
  },
  {
   "cell_type": "code",
   "execution_count": 3,
   "metadata": {},
   "outputs": [],
   "source": [
    "original_dataset_dir = './data-src/cats_and_dogs/train'\n",
    "\n",
    "base_dir = './cats_and_dogs_small'\n",
    "# os.mkdir(base_dir)\n",
    "\n",
    "train_dir = os.path.join(base_dir, 'train')\n",
    "# os.mkdir(train_dir)\n",
    "validation_dir = os.path.join(base_dir, 'validation')\n",
    "# os.mkdir(validation_dir)\n",
    "test_dir = os.path.join(base_dir, 'test')\n",
    "# os.mkdir(test_dir)\n",
    "\n",
    "train_cats_dir = os.path.join(train_dir, 'cats')\n",
    "# os.mkdir(train_cats_dir)\n",
    "\n",
    "train_dogs_dir = os.path.join(train_dir, 'dogs')\n",
    "# os.mkdir(train_dogs_dir)\n",
    "\n",
    "validation_cats_dir = os.path.join(validation_dir, 'cats')\n",
    "# os.mkdir(validation_cats_dir)\n",
    "\n",
    "validation_dogs_dir = os.path.join(validation_dir, 'dogs')\n",
    "# os.mkdir(validation_dogs_dir)\n",
    "\n",
    "test_cats_dir = os.path.join(test_dir, 'cats')\n",
    "# os.mkdir(test_cats_dir)\n",
    "\n",
    "test_dogs_dir = os.path.join(test_dir, 'dogs')\n",
    "# os.mkdir(test_dogs_dir)\n",
    "\n",
    "# fnames = ['cat.{}.jpg'.format(i) for i in range(1000)]\n",
    "# for fname in fnames:\n",
    "#     src = os.path.join(original_dataset_dir, fname)\n",
    "#     dst = os.path.join(train_cats_dir, fname)\n",
    "#     shutil.copyfile(src, dst)\n",
    "\n",
    "# fnames = ['cat.{}.jpg'.format(i) for i in range(1000, 1500)]\n",
    "# for fname in fnames:\n",
    "#     src = os.path.join(original_dataset_dir, fname)\n",
    "#     dst = os.path.join(validation_cats_dir, fname)\n",
    "#     shutil.copyfile(src, dst)\n",
    "\n",
    "# fnames = ['cat.{}.jpg'.format(i) for i in range(1500, 2000)]\n",
    "# for fname in fnames:\n",
    "#     src = os.path.join(original_dataset_dir, fname)\n",
    "#     dst = os.path.join(test_cats_dir, fname)\n",
    "#     shutil.copyfile(src, dst)\n",
    "\n",
    "# fnames = ['dog.{}.jpg'.format(i) for i in range(1000)]\n",
    "# for fname in fnames:\n",
    "#     src = os.path.join(original_dataset_dir, fname)\n",
    "#     dst = os.path.join(train_dogs_dir, fname)\n",
    "#     shutil.copyfile(src, dst)\n",
    "# fnames = ['dog.{}.jpg'.format(i) for i in range(1000, 1500)]\n",
    "# for fname in fnames:\n",
    "#     src = os.path.join(original_dataset_dir, fname)\n",
    "#     dst = os.path.join(validation_dogs_dir, fname)\n",
    "#     shutil.copyfile(src, dst)\n",
    "\n",
    "# fnames = ['dog.{}.jpg'.format(i) for i in range(1500, 2000)]\n",
    "# for fname in fnames:\n",
    "#     src = os.path.join(original_dataset_dir, fname)\n",
    "#     dst = os.path.join(test_dogs_dir, fname)\n",
    "#     shutil.copyfile(src, dst)"
   ]
  },
  {
   "cell_type": "code",
   "execution_count": 4,
   "metadata": {},
   "outputs": [
    {
     "name": "stdout",
     "output_type": "stream",
     "text": [
      "total training cat images: 1000\n",
      "total training dog images: 1000\n",
      "total validation cat images: 500\n",
      "total validation dog images: 500\n",
      "total test cat images: 500\n",
      "total test dog images: 500\n"
     ]
    }
   ],
   "source": [
    "print('total training cat images:', len(os.listdir(train_cats_dir)))\n",
    "print('total training dog images:', len(os.listdir(train_dogs_dir)))\n",
    "print('total validation cat images:', len(os.listdir(validation_cats_dir)))\n",
    "print('total validation dog images:', len(os.listdir(validation_dogs_dir)))\n",
    "print('total test cat images:', len(os.listdir(test_cats_dir)))\n",
    "print('total test dog images:', len(os.listdir(test_dogs_dir)))"
   ]
  },
  {
   "cell_type": "code",
   "execution_count": 5,
   "metadata": {
    "scrolled": false
   },
   "outputs": [
    {
     "name": "stderr",
     "output_type": "stream",
     "text": [
      "Using TensorFlow backend.\n"
     ]
    },
    {
     "name": "stdout",
     "output_type": "stream",
     "text": [
      "_________________________________________________________________\n",
      "Layer (type)                 Output Shape              Param #   \n",
      "=================================================================\n",
      "conv2d_1 (Conv2D)            (None, 148, 148, 32)      896       \n",
      "_________________________________________________________________\n",
      "max_pooling2d_1 (MaxPooling2 (None, 74, 74, 32)        0         \n",
      "_________________________________________________________________\n",
      "conv2d_2 (Conv2D)            (None, 72, 72, 64)        18496     \n",
      "_________________________________________________________________\n",
      "max_pooling2d_2 (MaxPooling2 (None, 36, 36, 64)        0         \n",
      "_________________________________________________________________\n",
      "conv2d_3 (Conv2D)            (None, 34, 34, 128)       73856     \n",
      "_________________________________________________________________\n",
      "max_pooling2d_3 (MaxPooling2 (None, 17, 17, 128)       0         \n",
      "_________________________________________________________________\n",
      "conv2d_4 (Conv2D)            (None, 15, 15, 128)       147584    \n",
      "_________________________________________________________________\n",
      "max_pooling2d_4 (MaxPooling2 (None, 7, 7, 128)         0         \n",
      "_________________________________________________________________\n",
      "flatten_1 (Flatten)          (None, 6272)              0         \n",
      "_________________________________________________________________\n",
      "dense_1 (Dense)              (None, 512)               3211776   \n",
      "_________________________________________________________________\n",
      "dense_2 (Dense)              (None, 1)                 513       \n",
      "=================================================================\n",
      "Total params: 3,453,121\n",
      "Trainable params: 3,453,121\n",
      "Non-trainable params: 0\n",
      "_________________________________________________________________\n"
     ]
    }
   ],
   "source": [
    "image_height = 150\n",
    "image_width = 150\n",
    "\n",
    "from keras import layers\n",
    "from keras import models\n",
    "\n",
    "model = models.Sequential()\n",
    "model.add(layers.Conv2D(32, (3, 3), activation='relu', input_shape=(image_height, image_width, 3)))\n",
    "model.add(layers.MaxPool2D((2,2)))\n",
    "\n",
    "model.add(layers.Conv2D(64, (3, 3), activation='relu'))\n",
    "model.add(layers.MaxPool2D((2,2)))\n",
    "\n",
    "model.add(layers.Conv2D(128, (3, 3), activation='relu'))\n",
    "model.add(layers.MaxPool2D((2,2)))\n",
    "\n",
    "model.add(layers.Conv2D(128, (3, 3), activation='relu'))\n",
    "model.add(layers.MaxPool2D((2,2)))\n",
    "\n",
    "model.add(layers.Flatten())\n",
    "\n",
    "model.add(layers.Dense(512, activation='relu'))\n",
    "model.add(layers.Dense(1, activation='sigmoid'))\n",
    "model.summary()"
   ]
  },
  {
   "cell_type": "code",
   "execution_count": 6,
   "metadata": {},
   "outputs": [],
   "source": [
    "from keras import optimizers\n",
    "from keras import losses\n",
    "from keras import metrics\n",
    "\n",
    "model.compile(\n",
    "    optimizer=optimizers.RMSprop(lr=0.001), # try also lr=1e-4\n",
    "    loss=losses.binary_crossentropy, \n",
    "    metrics=[metrics.binary_accuracy])"
   ]
  },
  {
   "cell_type": "code",
   "execution_count": 7,
   "metadata": {},
   "outputs": [
    {
     "name": "stdout",
     "output_type": "stream",
     "text": [
      "Found 2000 images belonging to 2 classes.\n",
      "Found 1000 images belonging to 2 classes.\n"
     ]
    }
   ],
   "source": [
    "batch_size = 20\n",
    "\n",
    "from keras.preprocessing.image import ImageDataGenerator\n",
    "\n",
    "train_datagen = ImageDataGenerator(rescale=1./255)\n",
    "test_datagen = ImageDataGenerator(rescale=1./255)\n",
    "\n",
    "train_generator = train_datagen.flow_from_directory(train_dir, \n",
    "                                                    target_size=(image_height, image_width), \n",
    "                                                    batch_size=batch_size, \n",
    "                                                    class_mode='binary')\n",
    "\n",
    "validation_generator = test_datagen.flow_from_directory(validation_dir, \n",
    "                                                        target_size=(image_height, image_width), \n",
    "                                                        batch_size=batch_size, \n",
    "                                                        class_mode='binary')"
   ]
  },
  {
   "cell_type": "code",
   "execution_count": 8,
   "metadata": {},
   "outputs": [
    {
     "name": "stdout",
     "output_type": "stream",
     "text": [
      "(20, 150, 150, 3)\n",
      "(20,)\n"
     ]
    }
   ],
   "source": [
    "for data_batch, labels_batch in train_generator:\n",
    "    print(data_batch.shape)\n",
    "    print(labels_batch.shape)\n",
    "    break"
   ]
  },
  {
   "cell_type": "code",
   "execution_count": 9,
   "metadata": {
    "scrolled": true
   },
   "outputs": [
    {
     "name": "stdout",
     "output_type": "stream",
     "text": [
      "Epoch 1/30\n",
      "100/100 [==============================] - 14s - loss: 0.7310 - binary_accuracy: 0.5265 - val_loss: 0.6859 - val_binary_accuracy: 0.5530\n",
      "Epoch 2/30\n",
      "100/100 [==============================] - 6s - loss: 0.6921 - binary_accuracy: 0.5835 - val_loss: 0.6311 - val_binary_accuracy: 0.6700\n",
      "Epoch 3/30\n",
      "100/100 [==============================] - 6s - loss: 0.6507 - binary_accuracy: 0.6555 - val_loss: 0.6812 - val_binary_accuracy: 0.6110\n",
      "Epoch 4/30\n",
      "100/100 [==============================] - 6s - loss: 0.6018 - binary_accuracy: 0.6910 - val_loss: 0.5946 - val_binary_accuracy: 0.6830\n",
      "Epoch 5/30\n",
      "100/100 [==============================] - 6s - loss: 0.5487 - binary_accuracy: 0.7235 - val_loss: 0.5640 - val_binary_accuracy: 0.7170\n",
      "Epoch 6/30\n",
      "100/100 [==============================] - 6s - loss: 0.5036 - binary_accuracy: 0.7485 - val_loss: 0.6179 - val_binary_accuracy: 0.7070\n",
      "Epoch 7/30\n",
      "100/100 [==============================] - 6s - loss: 0.4421 - binary_accuracy: 0.7950 - val_loss: 0.6862 - val_binary_accuracy: 0.6860\n",
      "Epoch 8/30\n",
      "100/100 [==============================] - 6s - loss: 0.4014 - binary_accuracy: 0.8255 - val_loss: 0.6722 - val_binary_accuracy: 0.6970\n",
      "Epoch 9/30\n",
      "100/100 [==============================] - 6s - loss: 0.3464 - binary_accuracy: 0.8475 - val_loss: 0.7085 - val_binary_accuracy: 0.7010\n",
      "Epoch 10/30\n",
      "100/100 [==============================] - 6s - loss: 0.2664 - binary_accuracy: 0.8825 - val_loss: 0.8349 - val_binary_accuracy: 0.7130\n",
      "Epoch 11/30\n",
      "100/100 [==============================] - 6s - loss: 0.2231 - binary_accuracy: 0.9060 - val_loss: 0.8137 - val_binary_accuracy: 0.7200\n",
      "Epoch 12/30\n",
      "100/100 [==============================] - 6s - loss: 0.1594 - binary_accuracy: 0.9375 - val_loss: 1.1833 - val_binary_accuracy: 0.6930\n",
      "Epoch 13/30\n",
      "100/100 [==============================] - 6s - loss: 0.1408 - binary_accuracy: 0.9460 - val_loss: 1.2531 - val_binary_accuracy: 0.7230\n",
      "Epoch 14/30\n",
      "100/100 [==============================] - 7s - loss: 0.1042 - binary_accuracy: 0.9670 - val_loss: 1.2898 - val_binary_accuracy: 0.7120\n",
      "Epoch 15/30\n",
      "100/100 [==============================] - 7s - loss: 0.0971 - binary_accuracy: 0.9620 - val_loss: 1.1564 - val_binary_accuracy: 0.7400\n",
      "Epoch 16/30\n",
      "100/100 [==============================] - 7s - loss: 0.0809 - binary_accuracy: 0.9785 - val_loss: 1.3846 - val_binary_accuracy: 0.7230\n",
      "Epoch 17/30\n",
      "100/100 [==============================] - 6s - loss: 0.0625 - binary_accuracy: 0.9785 - val_loss: 1.8398 - val_binary_accuracy: 0.7130\n",
      "Epoch 18/30\n",
      "100/100 [==============================] - 7s - loss: 0.0786 - binary_accuracy: 0.9765 - val_loss: 1.5643 - val_binary_accuracy: 0.7380\n",
      "Epoch 19/30\n",
      "100/100 [==============================] - 7s - loss: 0.0899 - binary_accuracy: 0.9735 - val_loss: 1.8222 - val_binary_accuracy: 0.7100\n",
      "Epoch 20/30\n",
      "100/100 [==============================] - 7s - loss: 0.0593 - binary_accuracy: 0.9815 - val_loss: 2.2005 - val_binary_accuracy: 0.7060\n",
      "Epoch 21/30\n",
      "100/100 [==============================] - 7s - loss: 0.0727 - binary_accuracy: 0.9805 - val_loss: 2.1177 - val_binary_accuracy: 0.7280\n",
      "Epoch 22/30\n",
      "100/100 [==============================] - 7s - loss: 0.1051 - binary_accuracy: 0.9825 - val_loss: 1.7468 - val_binary_accuracy: 0.7050\n",
      "Epoch 23/30\n",
      "100/100 [==============================] - 7s - loss: 0.0844 - binary_accuracy: 0.9815 - val_loss: 1.9446 - val_binary_accuracy: 0.7210\n",
      "Epoch 24/30\n",
      "100/100 [==============================] - 7s - loss: 0.0475 - binary_accuracy: 0.9855 - val_loss: 1.9569 - val_binary_accuracy: 0.7080\n",
      "Epoch 25/30\n",
      "100/100 [==============================] - 6s - loss: 0.0458 - binary_accuracy: 0.9865 - val_loss: 2.5383 - val_binary_accuracy: 0.7270\n",
      "Epoch 26/30\n",
      "100/100 [==============================] - 6s - loss: 0.0757 - binary_accuracy: 0.9835 - val_loss: 2.0025 - val_binary_accuracy: 0.7270\n",
      "Epoch 27/30\n",
      "100/100 [==============================] - 6s - loss: 0.0569 - binary_accuracy: 0.9860 - val_loss: 2.5999 - val_binary_accuracy: 0.6720\n",
      "Epoch 28/30\n",
      "100/100 [==============================] - 6s - loss: 0.0386 - binary_accuracy: 0.9900 - val_loss: 2.3646 - val_binary_accuracy: 0.7390\n",
      "Epoch 29/30\n",
      "100/100 [==============================] - 6s - loss: 0.0570 - binary_accuracy: 0.9855 - val_loss: 2.2755 - val_binary_accuracy: 0.7120\n",
      "Epoch 30/30\n",
      "100/100 [==============================] - 6s - loss: 0.0397 - binary_accuracy: 0.9895 - val_loss: 2.3045 - val_binary_accuracy: 0.7340\n"
     ]
    }
   ],
   "source": [
    "total_num_samples = len(os.listdir(train_cats_dir)) + len(os.listdir(train_dogs_dir))\n",
    "total_num_val_samples = len(os.listdir(validation_cats_dir)) + len(os.listdir(validation_dogs_dir))\n",
    "\n",
    "history = model.fit_generator(train_generator, \n",
    "                              steps_per_epoch=total_num_samples/batch_size, \n",
    "                              epochs=30,\n",
    "                              validation_data=validation_generator,\n",
    "                              validation_steps=total_num_val_samples/batch_size)"
   ]
  },
  {
   "cell_type": "code",
   "execution_count": 13,
   "metadata": {},
   "outputs": [],
   "source": [
    "model.save('cats_and_dogs_small_1.h5')"
   ]
  },
  {
   "cell_type": "code",
   "execution_count": 10,
   "metadata": {},
   "outputs": [
    {
     "data": {
      "text/plain": [
       "dict_keys(['val_loss', 'loss', 'val_binary_accuracy', 'binary_accuracy'])"
      ]
     },
     "execution_count": 10,
     "metadata": {},
     "output_type": "execute_result"
    }
   ],
   "source": [
    "history.history.keys()"
   ]
  },
  {
   "cell_type": "code",
   "execution_count": 11,
   "metadata": {},
   "outputs": [
    {
     "data": {
      "image/png": "[encoded data removed]",
      "text/plain": [
       "<matplotlib.figure.Figure at 0x7f99ac08bd68>"
      ]
     },
     "metadata": {},
     "output_type": "display_data"
    }
   ],
   "source": [
    "import matplotlib.pyplot as plt\n",
    "%matplotlib inline\n",
    "\n",
    "plt.plot(history.epoch, history.history['loss'], label='loss')\n",
    "plt.plot(history.epoch, history.history['val_loss'], label='val_loss')\n",
    "plt.title('Training and validation loss')\n",
    "plt.xlabel('Epochs')\n",
    "plt.ylabel('Loss')\n",
    "plt.legend()\n",
    "plt.show()"
   ]
  },
  {
   "cell_type": "code",
   "execution_count": 12,
   "metadata": {},
   "outputs": [
    {
     "data": {
      "image/png": "[encoded data removed]",
      "text/plain": [
       "<matplotlib.figure.Figure at 0x7f99ac08bc88>"
      ]
     },
     "metadata": {},
     "output_type": "display_data"
    }
   ],
   "source": [
    "import matplotlib.pyplot as plt\n",
    "%matplotlib inline\n",
    "\n",
    "plt.plot(history.epoch, history.history['binary_accuracy'], label='binary_accuracy')\n",
    "plt.plot(history.epoch, history.history['val_binary_accuracy'], label='val_binary_accuracy')\n",
    "plt.title('Training and validation accuracy')\n",
    "plt.xlabel('Epochs')\n",
    "plt.ylabel('Accuracy')\n",
    "plt.legend()\n",
    "plt.show()"
   ]
  },
  {
   "cell_type": "code",
   "execution_count": 14,
   "metadata": {},
   "outputs": [
    {
     "name": "stdout",
     "output_type": "stream",
     "text": [
      "Found 2000 images belonging to 2 classes.\n",
      "Found 1000 images belonging to 2 classes.\n"
     ]
    }
   ],
   "source": [
    "# too few data, make up more by data augmentation\n",
    "\n",
    "batch_size = 32\n",
    "\n",
    "from keras.preprocessing.image import ImageDataGenerator\n",
    "\n",
    "train_datagen = ImageDataGenerator(rescale=1./255, \n",
    "                                   rotation_range=40, \n",
    "                                   width_shift_range=0.2, \n",
    "                                   height_shift_range=0.2, \n",
    "                                   shear_range=0.2, \n",
    "                                   zoom_range=0.2, \n",
    "                                   horizontal_flip=True)\n",
    "test_datagen = ImageDataGenerator(rescale=1./255)\n",
    "\n",
    "train_generator = train_datagen.flow_from_directory(train_dir, \n",
    "                                                    target_size=(image_height, image_width), \n",
    "                                                    batch_size=batch_size, \n",
    "                                                    class_mode='binary')\n",
    "\n",
    "validation_generator = test_datagen.flow_from_directory(validation_dir, \n",
    "                                                        target_size=(image_height, image_width), \n",
    "                                                        batch_size=batch_size, \n",
    "                                                        class_mode='binary')"
   ]
  },
  {
   "cell_type": "code",
   "execution_count": 15,
   "metadata": {},
   "outputs": [],
   "source": [
    "image_height = 150\n",
    "image_width = 150\n",
    "\n",
    "from keras import layers\n",
    "from keras import models\n",
    "\n",
    "model = models.Sequential()\n",
    "model.add(layers.Conv2D(32, (3, 3), activation='relu', input_shape=(image_height, image_width, 3)))\n",
    "model.add(layers.MaxPool2D((2,2)))\n",
    "\n",
    "model.add(layers.Conv2D(64, (3, 3), activation='relu'))\n",
    "model.add(layers.MaxPool2D((2,2)))\n",
    "\n",
    "model.add(layers.Conv2D(128, (3, 3), activation='relu'))\n",
    "model.add(layers.MaxPool2D((2,2)))\n",
    "\n",
    "model.add(layers.Conv2D(128, (3, 3), activation='relu'))\n",
    "model.add(layers.MaxPool2D((2,2)))\n",
    "\n",
    "model.add(layers.Flatten())\n",
    "\n",
    "model.add(layers.Dropout(rate=0.5))\n",
    "\n",
    "model.add(layers.Dense(512, activation='relu'))\n",
    "model.add(layers.Dense(1, activation='sigmoid'))"
   ]
  },
  {
   "cell_type": "code",
   "execution_count": 16,
   "metadata": {},
   "outputs": [],
   "source": [
    "from keras import optimizers\n",
    "from keras import losses\n",
    "from keras import metrics\n",
    "\n",
    "model.compile(\n",
    "    optimizer=optimizers.RMSprop(lr=0.001), # try also lr=1e-4\n",
    "    loss=losses.binary_crossentropy, \n",
    "    metrics=[metrics.binary_accuracy])"
   ]
  },
  {
   "cell_type": "code",
   "execution_count": 26,
   "metadata": {
    "scrolled": true
   },
   "outputs": [
    {
     "name": "stdout",
     "output_type": "stream",
     "text": [
      "Epoch 1/100\n",
      "63/63 [==============================] - 12s - loss: 0.7415 - binary_accuracy: 0.4941 - val_loss: 0.6915 - val_binary_accuracy: 0.5030\n",
      "Epoch 2/100\n",
      "63/63 [==============================] - 11s - loss: 0.6950 - binary_accuracy: 0.5362 - val_loss: 0.6770 - val_binary_accuracy: 0.6400\n",
      "Epoch 3/100\n",
      "63/63 [==============================] - 11s - loss: 0.6957 - binary_accuracy: 0.5828 - val_loss: 1.2011 - val_binary_accuracy: 0.5010\n",
      "Epoch 4/100\n",
      "63/63 [==============================] - 11s - loss: 0.6901 - binary_accuracy: 0.5898 - val_loss: 0.6569 - val_binary_accuracy: 0.6510\n",
      "Epoch 5/100\n",
      "63/63 [==============================] - 11s - loss: 0.6601 - binary_accuracy: 0.6176 - val_loss: 0.6938 - val_binary_accuracy: 0.5620\n",
      "Epoch 6/100\n",
      "63/63 [==============================] - 10s - loss: 0.6537 - binary_accuracy: 0.6230 - val_loss: 0.6295 - val_binary_accuracy: 0.6440\n",
      "Epoch 7/100\n",
      "63/63 [==============================] - 10s - loss: 0.6926 - binary_accuracy: 0.6453 - val_loss: 0.6110 - val_binary_accuracy: 0.6560\n",
      "Epoch 8/100\n",
      "63/63 [==============================] - 11s - loss: 0.6274 - binary_accuracy: 0.6642 - val_loss: 0.6919 - val_binary_accuracy: 0.6330\n",
      "Epoch 9/100\n",
      "63/63 [==============================] - 11s - loss: 0.6195 - binary_accuracy: 0.6672 - val_loss: 0.6383 - val_binary_accuracy: 0.6210\n",
      "Epoch 10/100\n",
      "63/63 [==============================] - 11s - loss: 0.6300 - binary_accuracy: 0.6667 - val_loss: 0.5999 - val_binary_accuracy: 0.6680\n",
      "Epoch 11/100\n",
      "63/63 [==============================] - 11s - loss: 0.6182 - binary_accuracy: 0.6771 - val_loss: 0.5801 - val_binary_accuracy: 0.6830\n",
      "Epoch 12/100\n",
      "63/63 [==============================] - 11s - loss: 0.6049 - binary_accuracy: 0.6776 - val_loss: 0.5587 - val_binary_accuracy: 0.7360\n",
      "Epoch 13/100\n",
      "63/63 [==============================] - 11s - loss: 0.5840 - binary_accuracy: 0.6860 - val_loss: 0.6351 - val_binary_accuracy: 0.6720\n",
      "Epoch 14/100\n",
      "63/63 [==============================] - 11s - loss: 0.6004 - binary_accuracy: 0.6781 - val_loss: 0.5601 - val_binary_accuracy: 0.7220\n",
      "Epoch 15/100\n",
      "63/63 [==============================] - 10s - loss: 0.5900 - binary_accuracy: 0.6895 - val_loss: 0.5674 - val_binary_accuracy: 0.7160\n",
      "Epoch 16/100\n",
      "63/63 [==============================] - 11s - loss: 0.5622 - binary_accuracy: 0.7103 - val_loss: 0.5483 - val_binary_accuracy: 0.7010\n",
      "Epoch 17/100\n",
      "63/63 [==============================] - 10s - loss: 0.5564 - binary_accuracy: 0.7237 - val_loss: 0.8708 - val_binary_accuracy: 0.6050\n",
      "Epoch 18/100\n",
      "63/63 [==============================] - 11s - loss: 0.5715 - binary_accuracy: 0.7073 - val_loss: 0.5204 - val_binary_accuracy: 0.7620\n",
      "Epoch 19/100\n",
      "63/63 [==============================] - 11s - loss: 0.5571 - binary_accuracy: 0.7242 - val_loss: 0.5975 - val_binary_accuracy: 0.6900\n",
      "Epoch 20/100\n",
      "63/63 [==============================] - 11s - loss: 0.5659 - binary_accuracy: 0.7058 - val_loss: 0.5006 - val_binary_accuracy: 0.7380\n",
      "Epoch 21/100\n",
      "63/63 [==============================] - 10s - loss: 0.5572 - binary_accuracy: 0.7212 - val_loss: 0.4943 - val_binary_accuracy: 0.7570\n",
      "Epoch 22/100\n",
      "63/63 [==============================] - 10s - loss: 0.5392 - binary_accuracy: 0.7242 - val_loss: 0.5275 - val_binary_accuracy: 0.7250\n",
      "Epoch 23/100\n",
      "63/63 [==============================] - 11s - loss: 0.5322 - binary_accuracy: 0.7331 - val_loss: 0.4937 - val_binary_accuracy: 0.7610\n",
      "Epoch 24/100\n",
      "63/63 [==============================] - 11s - loss: 0.5299 - binary_accuracy: 0.7317 - val_loss: 0.5462 - val_binary_accuracy: 0.7200\n",
      "Epoch 25/100\n",
      "63/63 [==============================] - 11s - loss: 0.5427 - binary_accuracy: 0.7306 - val_loss: 0.4713 - val_binary_accuracy: 0.7780\n",
      "Epoch 26/100\n",
      "63/63 [==============================] - 11s - loss: 0.5328 - binary_accuracy: 0.7416 - val_loss: 0.4904 - val_binary_accuracy: 0.7650\n",
      "Epoch 27/100\n",
      "63/63 [==============================] - 11s - loss: 0.5282 - binary_accuracy: 0.7421 - val_loss: 0.5769 - val_binary_accuracy: 0.6660\n",
      "Epoch 28/100\n",
      "63/63 [==============================] - 11s - loss: 0.5134 - binary_accuracy: 0.7490 - val_loss: 0.5226 - val_binary_accuracy: 0.7460\n",
      "Epoch 29/100\n",
      "63/63 [==============================] - 11s - loss: 0.5180 - binary_accuracy: 0.7534 - val_loss: 0.5831 - val_binary_accuracy: 0.7330\n",
      "Epoch 30/100\n",
      "63/63 [==============================] - 11s - loss: 0.5211 - binary_accuracy: 0.7485 - val_loss: 0.4599 - val_binary_accuracy: 0.7650\n",
      "Epoch 31/100\n",
      "63/63 [==============================] - 11s - loss: 0.5186 - binary_accuracy: 0.7535 - val_loss: 0.5091 - val_binary_accuracy: 0.7690\n",
      "Epoch 32/100\n",
      "63/63 [==============================] - 11s - loss: 0.5169 - binary_accuracy: 0.7505 - val_loss: 0.5104 - val_binary_accuracy: 0.7480\n",
      "Epoch 33/100\n",
      "63/63 [==============================] - 11s - loss: 0.5138 - binary_accuracy: 0.7466 - val_loss: 0.4968 - val_binary_accuracy: 0.7640\n",
      "Epoch 34/100\n",
      "63/63 [==============================] - 11s - loss: 0.5045 - binary_accuracy: 0.7594 - val_loss: 0.4954 - val_binary_accuracy: 0.7680\n",
      "Epoch 35/100\n",
      "63/63 [==============================] - 11s - loss: 0.4812 - binary_accuracy: 0.7783 - val_loss: 0.4828 - val_binary_accuracy: 0.7770\n",
      "Epoch 36/100\n",
      "63/63 [==============================] - 11s - loss: 0.5340 - binary_accuracy: 0.7594 - val_loss: 0.4593 - val_binary_accuracy: 0.7700\n",
      "Epoch 37/100\n",
      "63/63 [==============================] - 11s - loss: 0.4860 - binary_accuracy: 0.7728 - val_loss: 0.4638 - val_binary_accuracy: 0.8120\n",
      "Epoch 38/100\n",
      "63/63 [==============================] - 11s - loss: 0.4928 - binary_accuracy: 0.7674 - val_loss: 0.4650 - val_binary_accuracy: 0.7950\n",
      "Epoch 39/100\n",
      "63/63 [==============================] - 11s - loss: 0.4949 - binary_accuracy: 0.7654 - val_loss: 0.4968 - val_binary_accuracy: 0.7360\n",
      "Epoch 40/100\n",
      "63/63 [==============================] - 11s - loss: 0.4744 - binary_accuracy: 0.7704 - val_loss: 0.5284 - val_binary_accuracy: 0.7510\n",
      "Epoch 41/100\n",
      "63/63 [==============================] - 11s - loss: 0.4594 - binary_accuracy: 0.7892 - val_loss: 0.5443 - val_binary_accuracy: 0.7760\n",
      "Epoch 42/100\n",
      "63/63 [==============================] - 11s - loss: 0.4878 - binary_accuracy: 0.7644 - val_loss: 0.4275 - val_binary_accuracy: 0.7950\n",
      "Epoch 43/100\n",
      "63/63 [==============================] - 11s - loss: 0.4875 - binary_accuracy: 0.7738 - val_loss: 0.5717 - val_binary_accuracy: 0.7620\n",
      "Epoch 44/100\n",
      "63/63 [==============================] - 11s - loss: 0.4695 - binary_accuracy: 0.7768 - val_loss: 0.4546 - val_binary_accuracy: 0.7850\n",
      "Epoch 45/100\n",
      "63/63 [==============================] - 10s - loss: 0.4744 - binary_accuracy: 0.7708 - val_loss: 0.4223 - val_binary_accuracy: 0.8150\n",
      "Epoch 46/100\n",
      "63/63 [==============================] - 11s - loss: 0.4703 - binary_accuracy: 0.7802 - val_loss: 0.4297 - val_binary_accuracy: 0.7980\n",
      "Epoch 47/100\n",
      "63/63 [==============================] - 11s - loss: 0.4522 - binary_accuracy: 0.7971 - val_loss: 0.3964 - val_binary_accuracy: 0.8240\n",
      "Epoch 48/100\n",
      "63/63 [==============================] - 10s - loss: 0.4553 - binary_accuracy: 0.7936 - val_loss: 0.4312 - val_binary_accuracy: 0.8330\n",
      "Epoch 49/100\n",
      "63/63 [==============================] - 11s - loss: 0.4532 - binary_accuracy: 0.7976 - val_loss: 0.4528 - val_binary_accuracy: 0.8070\n",
      "Epoch 50/100\n",
      "63/63 [==============================] - 11s - loss: 0.4455 - binary_accuracy: 0.8125 - val_loss: 0.4835 - val_binary_accuracy: 0.7620\n",
      "Epoch 51/100\n",
      "63/63 [==============================] - 11s - loss: 0.4413 - binary_accuracy: 0.7952 - val_loss: 0.5008 - val_binary_accuracy: 0.7650\n",
      "Epoch 52/100\n",
      "63/63 [==============================] - 11s - loss: 0.4435 - binary_accuracy: 0.8105 - val_loss: 0.4523 - val_binary_accuracy: 0.7900\n",
      "Epoch 53/100\n",
      "63/63 [==============================] - 11s - loss: 0.4605 - binary_accuracy: 0.7872 - val_loss: 0.4042 - val_binary_accuracy: 0.8330\n",
      "Epoch 54/100\n",
      "63/63 [==============================] - 11s - loss: 0.4615 - binary_accuracy: 0.7961 - val_loss: 0.4298 - val_binary_accuracy: 0.8060\n",
      "Epoch 55/100\n",
      "63/63 [==============================] - 11s - loss: 0.4248 - binary_accuracy: 0.8080 - val_loss: 0.5992 - val_binary_accuracy: 0.7810\n",
      "Epoch 56/100\n"
     ]
    },
    {
     "name": "stdout",
     "output_type": "stream",
     "text": [
      "63/63 [==============================] - 10s - loss: 0.4526 - binary_accuracy: 0.7942 - val_loss: 0.7105 - val_binary_accuracy: 0.6420\n",
      "Epoch 57/100\n",
      "63/63 [==============================] - 10s - loss: 0.4646 - binary_accuracy: 0.7986 - val_loss: 0.4101 - val_binary_accuracy: 0.8050\n",
      "Epoch 58/100\n",
      "63/63 [==============================] - 10s - loss: 0.4414 - binary_accuracy: 0.8031 - val_loss: 0.4061 - val_binary_accuracy: 0.8310\n",
      "Epoch 59/100\n",
      "63/63 [==============================] - 10s - loss: 0.4278 - binary_accuracy: 0.8080 - val_loss: 0.4471 - val_binary_accuracy: 0.8200\n",
      "Epoch 60/100\n",
      "63/63 [==============================] - 10s - loss: 0.4360 - binary_accuracy: 0.8110 - val_loss: 0.5129 - val_binary_accuracy: 0.7450\n",
      "Epoch 61/100\n",
      "63/63 [==============================] - 10s - loss: 0.4528 - binary_accuracy: 0.7937 - val_loss: 0.4789 - val_binary_accuracy: 0.7840\n",
      "Epoch 62/100\n",
      "63/63 [==============================] - 11s - loss: 0.4706 - binary_accuracy: 0.7798 - val_loss: 0.4535 - val_binary_accuracy: 0.8190\n",
      "Epoch 63/100\n",
      "63/63 [==============================] - 11s - loss: 0.4435 - binary_accuracy: 0.7991 - val_loss: 0.4543 - val_binary_accuracy: 0.8130\n",
      "Epoch 64/100\n",
      "63/63 [==============================] - 12s - loss: 0.4495 - binary_accuracy: 0.8169 - val_loss: 0.3859 - val_binary_accuracy: 0.8300\n",
      "Epoch 65/100\n",
      "63/63 [==============================] - 11s - loss: 0.4248 - binary_accuracy: 0.8100 - val_loss: 0.3951 - val_binary_accuracy: 0.8300\n",
      "Epoch 66/100\n",
      "63/63 [==============================] - 10s - loss: 0.4040 - binary_accuracy: 0.8254 - val_loss: 0.4209 - val_binary_accuracy: 0.8210\n",
      "Epoch 67/100\n",
      "63/63 [==============================] - 11s - loss: 0.4335 - binary_accuracy: 0.8095 - val_loss: 0.3931 - val_binary_accuracy: 0.8240\n",
      "Epoch 68/100\n",
      "63/63 [==============================] - 11s - loss: 0.4084 - binary_accuracy: 0.8179 - val_loss: 0.5639 - val_binary_accuracy: 0.7490\n",
      "Epoch 69/100\n",
      "63/63 [==============================] - 10s - loss: 0.4161 - binary_accuracy: 0.8115 - val_loss: 0.4648 - val_binary_accuracy: 0.8100\n",
      "Epoch 70/100\n",
      "63/63 [==============================] - 10s - loss: 0.4178 - binary_accuracy: 0.8091 - val_loss: 0.4484 - val_binary_accuracy: 0.7700\n",
      "Epoch 71/100\n",
      "63/63 [==============================] - 11s - loss: 0.4195 - binary_accuracy: 0.8130 - val_loss: 0.3826 - val_binary_accuracy: 0.8340\n",
      "Epoch 72/100\n",
      "63/63 [==============================] - 10s - loss: 0.3940 - binary_accuracy: 0.8229 - val_loss: 0.4959 - val_binary_accuracy: 0.8090\n",
      "Epoch 73/100\n",
      "63/63 [==============================] - 11s - loss: 0.4244 - binary_accuracy: 0.8046 - val_loss: 0.4763 - val_binary_accuracy: 0.8030\n",
      "Epoch 74/100\n",
      "63/63 [==============================] - 11s - loss: 0.4084 - binary_accuracy: 0.8219 - val_loss: 0.4290 - val_binary_accuracy: 0.8190\n",
      "Epoch 75/100\n",
      "63/63 [==============================] - 10s - loss: 0.4196 - binary_accuracy: 0.8130 - val_loss: 0.3784 - val_binary_accuracy: 0.8260\n",
      "Epoch 76/100\n",
      "63/63 [==============================] - 10s - loss: 0.4271 - binary_accuracy: 0.8055 - val_loss: 0.4048 - val_binary_accuracy: 0.8330\n",
      "Epoch 77/100\n",
      "63/63 [==============================] - 11s - loss: 0.4159 - binary_accuracy: 0.8214 - val_loss: 0.3816 - val_binary_accuracy: 0.8340\n",
      "Epoch 78/100\n",
      "63/63 [==============================] - 11s - loss: 0.4097 - binary_accuracy: 0.8199 - val_loss: 0.4928 - val_binary_accuracy: 0.7960\n",
      "Epoch 79/100\n",
      "63/63 [==============================] - 11s - loss: 0.4212 - binary_accuracy: 0.8075 - val_loss: 0.3712 - val_binary_accuracy: 0.8290\n",
      "Epoch 80/100\n",
      "63/63 [==============================] - 10s - loss: 0.4038 - binary_accuracy: 0.8249 - val_loss: 0.3847 - val_binary_accuracy: 0.8430\n",
      "Epoch 81/100\n",
      "63/63 [==============================] - 11s - loss: 0.4277 - binary_accuracy: 0.8130 - val_loss: 0.3848 - val_binary_accuracy: 0.8310\n",
      "Epoch 82/100\n",
      "63/63 [==============================] - 11s - loss: 0.4169 - binary_accuracy: 0.8145 - val_loss: 0.4242 - val_binary_accuracy: 0.8270\n",
      "Epoch 83/100\n",
      "63/63 [==============================] - 10s - loss: 0.3996 - binary_accuracy: 0.8343 - val_loss: 0.3892 - val_binary_accuracy: 0.8470\n",
      "Epoch 84/100\n",
      "63/63 [==============================] - 11s - loss: 0.4172 - binary_accuracy: 0.8130 - val_loss: 0.3986 - val_binary_accuracy: 0.8470\n",
      "Epoch 85/100\n",
      "63/63 [==============================] - 11s - loss: 0.3944 - binary_accuracy: 0.8323 - val_loss: 0.3983 - val_binary_accuracy: 0.8380\n",
      "Epoch 86/100\n",
      "63/63 [==============================] - 11s - loss: 0.4028 - binary_accuracy: 0.8254 - val_loss: 0.4585 - val_binary_accuracy: 0.8250\n",
      "Epoch 87/100\n",
      "63/63 [==============================] - 11s - loss: 0.3846 - binary_accuracy: 0.8333 - val_loss: 0.3547 - val_binary_accuracy: 0.8390\n",
      "Epoch 88/100\n",
      "63/63 [==============================] - 11s - loss: 0.3904 - binary_accuracy: 0.8368 - val_loss: 0.3502 - val_binary_accuracy: 0.8450\n",
      "Epoch 89/100\n",
      "63/63 [==============================] - 11s - loss: 0.3842 - binary_accuracy: 0.8348 - val_loss: 0.4006 - val_binary_accuracy: 0.8320\n",
      "Epoch 90/100\n",
      "63/63 [==============================] - 11s - loss: 0.4212 - binary_accuracy: 0.8244 - val_loss: 0.3748 - val_binary_accuracy: 0.8160\n",
      "Epoch 91/100\n",
      "63/63 [==============================] - 11s - loss: 0.3888 - binary_accuracy: 0.8334 - val_loss: 0.4737 - val_binary_accuracy: 0.8110\n",
      "Epoch 92/100\n",
      "63/63 [==============================] - 11s - loss: 0.3774 - binary_accuracy: 0.8343 - val_loss: 0.5607 - val_binary_accuracy: 0.7960\n",
      "Epoch 93/100\n",
      "63/63 [==============================] - 11s - loss: 0.3610 - binary_accuracy: 0.8418 - val_loss: 0.3954 - val_binary_accuracy: 0.8310\n",
      "Epoch 94/100\n",
      "63/63 [==============================] - 11s - loss: 0.3939 - binary_accuracy: 0.8294 - val_loss: 0.9421 - val_binary_accuracy: 0.7190\n",
      "Epoch 95/100\n",
      "63/63 [==============================] - 11s - loss: 0.4049 - binary_accuracy: 0.8284 - val_loss: 0.3712 - val_binary_accuracy: 0.8420\n",
      "Epoch 96/100\n",
      "63/63 [==============================] - 11s - loss: 0.3879 - binary_accuracy: 0.8378 - val_loss: 0.4750 - val_binary_accuracy: 0.8070\n",
      "Epoch 97/100\n",
      "63/63 [==============================] - 11s - loss: 0.3977 - binary_accuracy: 0.8294 - val_loss: 0.4606 - val_binary_accuracy: 0.8210\n",
      "Epoch 98/100\n",
      "63/63 [==============================] - 11s - loss: 0.3916 - binary_accuracy: 0.8299 - val_loss: 0.4116 - val_binary_accuracy: 0.8270\n",
      "Epoch 99/100\n",
      "63/63 [==============================] - 11s - loss: 0.4002 - binary_accuracy: 0.8338 - val_loss: 0.4807 - val_binary_accuracy: 0.8100\n",
      "Epoch 100/100\n",
      "63/63 [==============================] - 11s - loss: 0.3943 - binary_accuracy: 0.8269 - val_loss: 0.4385 - val_binary_accuracy: 0.8190\n"
     ]
    }
   ],
   "source": [
    "import math\n",
    "\n",
    "total_num_samples = len(os.listdir(train_cats_dir)) + len(os.listdir(train_dogs_dir))\n",
    "total_num_val_samples = len(os.listdir(validation_cats_dir)) + len(os.listdir(validation_dogs_dir))\n",
    "\n",
    "history = model.fit_generator(train_generator, \n",
    "                              steps_per_epoch=math.ceil(total_num_samples/batch_size), \n",
    "                              epochs=100,\n",
    "                              validation_data=validation_generator,\n",
    "                              validation_steps=math.ceil(total_num_val_samples/batch_size))"
   ]
  },
  {
   "cell_type": "code",
   "execution_count": 27,
   "metadata": {},
   "outputs": [],
   "source": [
    "model.save('cats_and_dogs_small_2.h5')"
   ]
  },
  {
   "cell_type": "code",
   "execution_count": null,
   "metadata": {},
   "outputs": [],
   "source": []
  },
  {
   "cell_type": "code",
   "execution_count": null,
   "metadata": {},
   "outputs": [],
   "source": []
  },
  {
   "cell_type": "code",
   "execution_count": null,
   "metadata": {},
   "outputs": [],
   "source": []
  },
  {
   "cell_type": "code",
   "execution_count": null,
   "metadata": {},
   "outputs": [],
   "source": []
  }
 ],
 "metadata": {
  "kernelspec": {
   "display_name": "Python 3",
   "language": "python",
   "name": "python3"
  },
  "language_info": {
   "codemirror_mode": {
    "name": "ipython",
    "version": 3
   },
   "file_extension": ".py",
   "mimetype": "text/x-python",
   "name": "python",
   "nbconvert_exporter": "python",
   "pygments_lexer": "ipython3",
   "version": "3.5.2"
  }
 },
 "nbformat": 4,
 "nbformat_minor": 2
}
