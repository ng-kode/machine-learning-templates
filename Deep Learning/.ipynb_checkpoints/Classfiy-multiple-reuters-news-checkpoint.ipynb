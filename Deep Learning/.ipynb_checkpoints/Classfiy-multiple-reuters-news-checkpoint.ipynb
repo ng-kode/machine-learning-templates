{
 "cells": [
  {
   "cell_type": "markdown",
   "metadata": {},
   "source": [
    "## Import data"
   ]
  },
  {
   "cell_type": "code",
   "execution_count": 1,
   "metadata": {},
   "outputs": [
    {
     "name": "stderr",
     "output_type": "stream",
     "text": [
      "Using TensorFlow backend.\n"
     ]
    }
   ],
   "source": [
    "from keras.datasets import reuters\n",
    "\n",
    "(x_train, y_train), (x_test, y_test) = reuters.load_data(num_words=10000)"
   ]
  },
  {
   "cell_type": "code",
   "execution_count": 2,
   "metadata": {},
   "outputs": [
    {
     "data": {
      "text/plain": [
       "(8982,)"
      ]
     },
     "execution_count": 2,
     "metadata": {},
     "output_type": "execute_result"
    }
   ],
   "source": [
    "x_train.shape"
   ]
  },
  {
   "cell_type": "code",
   "execution_count": 3,
   "metadata": {
    "scrolled": false
   },
   "outputs": [
    {
     "data": {
      "text/plain": [
       "array([list([1, 2, 2, 8, 43, 10, 447, 5, 25, 207, 270, 5, 3095, 111, 16, 369, 186, 90, 67, 7, 89, 5, 19, 102, 6, 19, 124, 15, 90, 67, 84, 22, 482, 26, 7, 48, 4, 49, 8, 864, 39, 209, 154, 6, 151, 6, 83, 11, 15, 22, 155, 11, 15, 7, 48, 9, 4579, 1005, 504, 6, 258, 6, 272, 11, 15, 22, 134, 44, 11, 15, 16, 8, 197, 1245, 90, 67, 52, 29, 209, 30, 32, 132, 6, 109, 15, 17, 12]),\n",
       "       list([1, 3267, 699, 3434, 2295, 56, 2, 7511, 9, 56, 3906, 1073, 81, 5, 1198, 57, 366, 737, 132, 20, 4093, 7, 2, 49, 2295, 2, 1037, 3267, 699, 3434, 8, 7, 10, 241, 16, 855, 129, 231, 783, 5, 4, 587, 2295, 2, 2, 775, 7, 48, 34, 191, 44, 35, 1795, 505, 17, 12]),\n",
       "       list([1, 53, 12, 284, 15, 14, 272, 26, 53, 959, 32, 818, 15, 14, 272, 26, 39, 684, 70, 11, 14, 12, 3886, 18, 180, 183, 187, 70, 11, 14, 102, 32, 11, 29, 53, 44, 704, 15, 14, 19, 758, 15, 53, 959, 47, 1013, 15, 14, 19, 132, 15, 39, 965, 32, 11, 14, 147, 72, 11, 180, 183, 187, 44, 11, 14, 102, 19, 11, 123, 186, 90, 67, 960, 4, 78, 13, 68, 467, 511, 110, 59, 89, 90, 67, 1390, 55, 2678, 92, 617, 80, 1274, 46, 905, 220, 13, 4, 346, 48, 235, 629, 5, 211, 5, 1118, 7, 2, 81, 5, 187, 11, 15, 9, 1709, 201, 5, 47, 3615, 18, 478, 4514, 5, 1118, 7, 232, 2, 71, 5, 160, 63, 11, 9, 2, 81, 5, 102, 59, 11, 17, 12]),\n",
       "       ...,\n",
       "       list([1, 141, 3890, 387, 81, 8, 16, 1629, 10, 340, 1241, 850, 31, 56, 3890, 691, 9, 1241, 71, 9, 5985, 2, 2, 699, 2, 2, 2, 699, 244, 5945, 4, 49, 8, 4, 656, 850, 33, 2993, 9, 2139, 340, 3371, 1493, 9, 2, 22, 2, 1094, 687, 83, 35, 15, 257, 6, 57, 9190, 7, 4, 5956, 654, 5, 2, 6191, 1371, 4, 49, 8, 16, 369, 646, 6, 1076, 7, 124, 407, 17, 12]),\n",
       "       list([1, 53, 46, 957, 26, 14, 74, 132, 26, 39, 46, 258, 3614, 18, 14, 74, 134, 5131, 18, 88, 2321, 72, 11, 14, 1842, 32, 11, 123, 383, 89, 39, 46, 235, 10, 864, 728, 5, 258, 44, 11, 15, 22, 753, 9, 42, 92, 131, 728, 5, 69, 312, 11, 15, 22, 222, 2, 3237, 383, 48, 39, 74, 235, 10, 864, 276, 5, 61, 32, 11, 15, 21, 4, 211, 5, 126, 1072, 42, 92, 131, 46, 19, 352, 11, 15, 22, 710, 220, 9, 42, 92, 131, 276, 5, 59, 61, 11, 15, 22, 10, 455, 7, 1172, 137, 336, 1325, 6, 1532, 142, 971, 6463, 43, 359, 5, 4, 326, 753, 364, 17, 12]),\n",
       "       list([1, 227, 2406, 91, 2, 125, 2855, 21, 4, 3976, 76, 7, 4, 757, 481, 3976, 790, 5259, 5654, 9, 111, 149, 8, 7, 10, 76, 223, 51, 4, 417, 8, 1047, 91, 6917, 1688, 340, 7, 194, 9411, 6, 1894, 21, 127, 2151, 2394, 1456, 6, 3034, 4, 329, 433, 7, 65, 87, 1127, 10, 8219, 1475, 290, 9, 21, 567, 16, 1926, 24, 4, 76, 209, 30, 4033, 6655, 5654, 8, 4, 60, 8, 4, 966, 308, 40, 2575, 129, 2, 295, 277, 1071, 9, 24, 286, 2114, 234, 222, 9, 4, 906, 3994, 8519, 114, 5758, 1752, 7, 4, 113, 17, 12])],\n",
       "      dtype=object)"
      ]
     },
     "execution_count": 3,
     "metadata": {},
     "output_type": "execute_result"
    }
   ],
   "source": [
    "x_train"
   ]
  },
  {
   "cell_type": "code",
   "execution_count": 4,
   "metadata": {},
   "outputs": [
    {
     "data": {
      "text/plain": [
       "(8982,)"
      ]
     },
     "execution_count": 4,
     "metadata": {},
     "output_type": "execute_result"
    }
   ],
   "source": [
    "y_train.shape"
   ]
  },
  {
   "cell_type": "code",
   "execution_count": 5,
   "metadata": {},
   "outputs": [
    {
     "data": {
      "text/plain": [
       "array([ 3,  4,  3, ..., 25,  3, 25], dtype=int64)"
      ]
     },
     "execution_count": 5,
     "metadata": {},
     "output_type": "execute_result"
    }
   ],
   "source": [
    "y_train"
   ]
  },
  {
   "cell_type": "code",
   "execution_count": 6,
   "metadata": {},
   "outputs": [
    {
     "data": {
      "text/plain": [
       "46"
      ]
     },
     "execution_count": 6,
     "metadata": {},
     "output_type": "execute_result"
    }
   ],
   "source": [
    "import numpy as np\n",
    "\n",
    "len(np.unique(y_train))"
   ]
  },
  {
   "cell_type": "markdown",
   "metadata": {},
   "source": [
    "## Vectorize X"
   ]
  },
  {
   "cell_type": "code",
   "execution_count": 7,
   "metadata": {},
   "outputs": [],
   "source": [
    "import numpy as np\n",
    "\n",
    "def one_hot_encode_sequences(sequences, dimension=10000):\n",
    "    results = np.zeros((len(sequences), dimension))\n",
    "    for i, sequence in enumerate(sequences):\n",
    "        results[i, sequence] = 1.\n",
    "    return results"
   ]
  },
  {
   "cell_type": "code",
   "execution_count": 8,
   "metadata": {},
   "outputs": [],
   "source": [
    "x_train = one_hot_encode_sequences(x_train)\n",
    "x_test = one_hot_encode_sequences(x_test)"
   ]
  },
  {
   "cell_type": "code",
   "execution_count": 9,
   "metadata": {},
   "outputs": [
    {
     "data": {
      "text/plain": [
       "(8982, 10000)"
      ]
     },
     "execution_count": 9,
     "metadata": {},
     "output_type": "execute_result"
    }
   ],
   "source": [
    "x_train.shape"
   ]
  },
  {
   "cell_type": "code",
   "execution_count": 10,
   "metadata": {},
   "outputs": [
    {
     "data": {
      "text/plain": [
       "array([0., 1., 1., ..., 0., 0., 0.])"
      ]
     },
     "execution_count": 10,
     "metadata": {},
     "output_type": "execute_result"
    }
   ],
   "source": [
    "x_train[0]"
   ]
  },
  {
   "cell_type": "markdown",
   "metadata": {},
   "source": [
    "## Vectorize Y"
   ]
  },
  {
   "cell_type": "code",
   "execution_count": 11,
   "metadata": {},
   "outputs": [],
   "source": [
    "import numpy as np\n",
    "\n",
    "def one_hot_encode_labels(labels, dimension=46):\n",
    "    results = np.zeros((len(labels), dimension))\n",
    "    for i, label in enumerate(labels):\n",
    "        results[i, label] = 1.\n",
    "    return results"
   ]
  },
  {
   "cell_type": "code",
   "execution_count": 2,
   "metadata": {},
   "outputs": [],
   "source": [
    "# from keras.utils.np_utils import to_categorical\n",
    "\n",
    "# one_hot_train_labels = to_categorical(y_train)\n",
    "# one_hot_test_labels = to_categorical(y_test)"
   ]
  },
  {
   "cell_type": "code",
   "execution_count": 12,
   "metadata": {},
   "outputs": [],
   "source": [
    "y_train = one_hot_encode_labels(y_train)\n",
    "y_test = one_hot_encode_labels(y_test)"
   ]
  },
  {
   "cell_type": "code",
   "execution_count": 13,
   "metadata": {},
   "outputs": [
    {
     "data": {
      "text/plain": [
       "(8982, 46)"
      ]
     },
     "execution_count": 13,
     "metadata": {},
     "output_type": "execute_result"
    }
   ],
   "source": [
    "y_train.shape"
   ]
  },
  {
   "cell_type": "code",
   "execution_count": 14,
   "metadata": {},
   "outputs": [
    {
     "data": {
      "text/plain": [
       "array([0., 0., 0., 1., 0., 0., 0., 0., 0., 0., 0., 0., 0., 0., 0., 0., 0.,\n",
       "       0., 0., 0., 0., 0., 0., 0., 0., 0., 0., 0., 0., 0., 0., 0., 0., 0.,\n",
       "       0., 0., 0., 0., 0., 0., 0., 0., 0., 0., 0., 0.])"
      ]
     },
     "execution_count": 14,
     "metadata": {},
     "output_type": "execute_result"
    }
   ],
   "source": [
    "y_train[0]"
   ]
  },
  {
   "cell_type": "markdown",
   "metadata": {},
   "source": [
    "## Train-validation split"
   ]
  },
  {
   "cell_type": "code",
   "execution_count": 15,
   "metadata": {},
   "outputs": [],
   "source": [
    "split_at = 1000\n",
    "\n",
    "x_val = x_train[:split_at]\n",
    "y_val = y_train[:split_at]\n",
    "\n",
    "partial_x_train = x_train[split_at:]\n",
    "partial_y_train = y_train[split_at:]"
   ]
  },
  {
   "cell_type": "markdown",
   "metadata": {},
   "source": [
    "## Build the model"
   ]
  },
  {
   "cell_type": "code",
   "execution_count": 16,
   "metadata": {},
   "outputs": [
    {
     "name": "stdout",
     "output_type": "stream",
     "text": [
      "_________________________________________________________________\n",
      "Layer (type)                 Output Shape              Param #   \n",
      "=================================================================\n",
      "dense_1 (Dense)              (None, 64)                640064    \n",
      "_________________________________________________________________\n",
      "dense_2 (Dense)              (None, 64)                4160      \n",
      "_________________________________________________________________\n",
      "dense_3 (Dense)              (None, 46)                2990      \n",
      "=================================================================\n",
      "Total params: 647,214\n",
      "Trainable params: 647,214\n",
      "Non-trainable params: 0\n",
      "_________________________________________________________________\n"
     ]
    }
   ],
   "source": [
    "from keras import layers\n",
    "from keras import models\n",
    "\n",
    "model = models.Sequential()\n",
    "model.add(layers.Dense(64, activation='relu', input_shape=(x_train.shape[-1],)))\n",
    "model.add(layers.Dense(64, activation='relu'))\n",
    "model.add(layers.Dense(46, activation='softmax'))\n",
    "model.summary()"
   ]
  },
  {
   "cell_type": "code",
   "execution_count": 17,
   "metadata": {},
   "outputs": [],
   "source": [
    "from keras import optimizers\n",
    "from keras import losses\n",
    "from keras import metrics\n",
    "\n",
    "model.compile(optimizers.RMSprop(lr=0.001), \n",
    "              losses.categorical_crossentropy, \n",
    "              [metrics.categorical_accuracy])"
   ]
  },
  {
   "cell_type": "markdown",
   "metadata": {},
   "source": [
    "## Train the model, find the optimal epoch"
   ]
  },
  {
   "cell_type": "code",
   "execution_count": 18,
   "metadata": {
    "collapsed": true
   },
   "outputs": [
    {
     "name": "stdout",
     "output_type": "stream",
     "text": [
      "Train on 7982 samples, validate on 1000 samples\n",
      "Epoch 1/20\n",
      "7982/7982 [==============================] - 1s 160us/step - loss: 2.5322 - categorical_accuracy: 0.4955 - val_loss: 1.7208 - val_categorical_accuracy: 0.6120\n",
      "Epoch 2/20\n",
      "7982/7982 [==============================] - 1s 126us/step - loss: 1.4452 - categorical_accuracy: 0.6879 - val_loss: 1.3459 - val_categorical_accuracy: 0.7060\n",
      "Epoch 3/20\n",
      "7982/7982 [==============================] - 1s 132us/step - loss: 1.0953 - categorical_accuracy: 0.7651 - val_loss: 1.1708 - val_categorical_accuracy: 0.7430\n",
      "Epoch 4/20\n",
      "7982/7982 [==============================] - 1s 130us/step - loss: 0.8697 - categorical_accuracy: 0.8165 - val_loss: 1.0793 - val_categorical_accuracy: 0.7590\n",
      "Epoch 5/20\n",
      "7982/7982 [==============================] - 1s 130us/step - loss: 0.7034 - categorical_accuracy: 0.8472 - val_loss: 0.9844 - val_categorical_accuracy: 0.7810\n",
      "Epoch 6/20\n",
      "7982/7982 [==============================] - 1s 127us/step - loss: 0.5667 - categorical_accuracy: 0.8802 - val_loss: 0.9411 - val_categorical_accuracy: 0.8040\n",
      "Epoch 7/20\n",
      "7982/7982 [==============================] - 1s 129us/step - loss: 0.4581 - categorical_accuracy: 0.9048 - val_loss: 0.9083 - val_categorical_accuracy: 0.8020\n",
      "Epoch 8/20\n",
      "7982/7982 [==============================] - 1s 127us/step - loss: 0.3695 - categorical_accuracy: 0.9231 - val_loss: 0.9363 - val_categorical_accuracy: 0.7890\n",
      "Epoch 9/20\n",
      "7982/7982 [==============================] - 1s 128us/step - loss: 0.3032 - categorical_accuracy: 0.9315 - val_loss: 0.8917 - val_categorical_accuracy: 0.8090\n",
      "Epoch 10/20\n",
      "7982/7982 [==============================] - 1s 127us/step - loss: 0.2537 - categorical_accuracy: 0.9414 - val_loss: 0.9071 - val_categorical_accuracy: 0.8110\n",
      "Epoch 11/20\n",
      "7982/7982 [==============================] - 1s 127us/step - loss: 0.2187 - categorical_accuracy: 0.9471 - val_loss: 0.9177 - val_categorical_accuracy: 0.8130\n",
      "Epoch 12/20\n",
      "7982/7982 [==============================] - 1s 128us/step - loss: 0.1873 - categorical_accuracy: 0.9508 - val_loss: 0.9027 - val_categorical_accuracy: 0.8130\n",
      "Epoch 13/20\n",
      "7982/7982 [==============================] - 1s 128us/step - loss: 0.1703 - categorical_accuracy: 0.9521 - val_loss: 0.9323 - val_categorical_accuracy: 0.8110\n",
      "Epoch 14/20\n",
      "7982/7982 [==============================] - 1s 128us/step - loss: 0.1536 - categorical_accuracy: 0.9554 - val_loss: 0.9689 - val_categorical_accuracy: 0.8050\n",
      "Epoch 15/20\n",
      "7982/7982 [==============================] - 1s 127us/step - loss: 0.1390 - categorical_accuracy: 0.9560 - val_loss: 0.9686 - val_categorical_accuracy: 0.8150\n",
      "Epoch 16/20\n",
      "7982/7982 [==============================] - 1s 129us/step - loss: 0.1313 - categorical_accuracy: 0.9560 - val_loss: 1.0220 - val_categorical_accuracy: 0.8060\n",
      "Epoch 17/20\n",
      "7982/7982 [==============================] - 1s 132us/step - loss: 0.1217 - categorical_accuracy: 0.9579 - val_loss: 1.0254 - val_categorical_accuracy: 0.7970\n",
      "Epoch 18/20\n",
      "7982/7982 [==============================] - 1s 128us/step - loss: 0.1198 - categorical_accuracy: 0.9582 - val_loss: 1.0430 - val_categorical_accuracy: 0.8060\n",
      "Epoch 19/20\n",
      "7982/7982 [==============================] - 1s 130us/step - loss: 0.1138 - categorical_accuracy: 0.9597 - val_loss: 1.0955 - val_categorical_accuracy: 0.7970\n",
      "Epoch 20/20\n",
      "7982/7982 [==============================] - 1s 129us/step - loss: 0.1111 - categorical_accuracy: 0.9593 - val_loss: 1.0674 - val_categorical_accuracy: 0.8020\n"
     ]
    }
   ],
   "source": [
    "history = model.fit(partial_x_train, \n",
    "                    partial_y_train, \n",
    "                    batch_size=512, \n",
    "                    epochs=20, \n",
    "                    validation_data=(x_val, y_val),\n",
    "                    verbose=0)"
   ]
  },
  {
   "cell_type": "code",
   "execution_count": 19,
   "metadata": {},
   "outputs": [
    {
     "data": {
      "text/plain": [
       "dict_keys(['val_loss', 'val_categorical_accuracy', 'loss', 'categorical_accuracy'])"
      ]
     },
     "execution_count": 19,
     "metadata": {},
     "output_type": "execute_result"
    }
   ],
   "source": [
    "history.history.keys()"
   ]
  },
  {
   "cell_type": "code",
   "execution_count": 20,
   "metadata": {},
   "outputs": [
    {
     "data": {
      "image/png": "[encoded data removed]",
      "text/plain": [
       "<Figure size 432x288 with 1 Axes>"
      ]
     },
     "metadata": {},
     "output_type": "display_data"
    }
   ],
   "source": [
    "import matplotlib.pyplot as plt\n",
    "%matplotlib inline\n",
    "\n",
    "plt.plot(history.epoch, history.history['loss'], label='loss')\n",
    "plt.plot(history.epoch, history.history['val_loss'], label='val_loss')\n",
    "plt.title('Training and validation loss')\n",
    "plt.xlabel('Epochs')\n",
    "plt.ylabel('Loss')\n",
    "plt.legend()\n",
    "plt.show()"
   ]
  },
  {
   "cell_type": "code",
   "execution_count": 21,
   "metadata": {},
   "outputs": [
    {
     "data": {
      "image/png": "[encoded data removed]",
      "text/plain": [
       "<Figure size 432x288 with 1 Axes>"
      ]
     },
     "metadata": {},
     "output_type": "display_data"
    }
   ],
   "source": [
    "import matplotlib.pyplot as plt\n",
    "%matplotlib inline\n",
    "\n",
    "plt.plot(history.epoch, history.history['categorical_accuracy'], label='categorical_accuracy')\n",
    "plt.plot(history.epoch, history.history['val_categorical_accuracy'], label='val_categorical_accuracy')\n",
    "plt.title('Training and validation accuracy')\n",
    "plt.xlabel('Epochs')\n",
    "plt.ylabel('Accuracy')\n",
    "plt.legend()\n",
    "plt.show()"
   ]
  },
  {
   "cell_type": "markdown",
   "metadata": {},
   "source": [
    "## Re-train the model using optimal num_epochs"
   ]
  },
  {
   "cell_type": "code",
   "execution_count": 23,
   "metadata": {
    "collapsed": true
   },
   "outputs": [
    {
     "name": "stdout",
     "output_type": "stream",
     "text": [
      "Train on 7982 samples, validate on 1000 samples\n",
      "Epoch 1/9\n",
      "7982/7982 [==============================] - 1s 153us/step - loss: 2.6135 - categorical_accuracy: 0.4644 - val_loss: 1.7289 - val_categorical_accuracy: 0.6350\n",
      "Epoch 2/9\n",
      "7982/7982 [==============================] - 1s 130us/step - loss: 1.4074 - categorical_accuracy: 0.7082 - val_loss: 1.2747 - val_categorical_accuracy: 0.7310\n",
      "Epoch 3/9\n",
      "7982/7982 [==============================] - 1s 129us/step - loss: 1.0425 - categorical_accuracy: 0.7786 - val_loss: 1.1035 - val_categorical_accuracy: 0.7630\n",
      "Epoch 4/9\n",
      "7982/7982 [==============================] - 1s 129us/step - loss: 0.8180 - categorical_accuracy: 0.8322 - val_loss: 1.0270 - val_categorical_accuracy: 0.7820\n",
      "Epoch 5/9\n",
      "7982/7982 [==============================] - 1s 130us/step - loss: 0.6507 - categorical_accuracy: 0.8629 - val_loss: 0.9513 - val_categorical_accuracy: 0.8070\n",
      "Epoch 6/9\n",
      "7982/7982 [==============================] - 1s 129us/step - loss: 0.5297 - categorical_accuracy: 0.8904 - val_loss: 0.9206 - val_categorical_accuracy: 0.8120\n",
      "Epoch 7/9\n",
      "7982/7982 [==============================] - 1s 132us/step - loss: 0.4213 - categorical_accuracy: 0.9113 - val_loss: 0.9006 - val_categorical_accuracy: 0.8140\n",
      "Epoch 8/9\n",
      "7982/7982 [==============================] - 1s 129us/step - loss: 0.3486 - categorical_accuracy: 0.9257 - val_loss: 0.8917 - val_categorical_accuracy: 0.8150\n",
      "Epoch 9/9\n",
      "7982/7982 [==============================] - 1s 130us/step - loss: 0.2861 - categorical_accuracy: 0.9352 - val_loss: 0.8843 - val_categorical_accuracy: 0.8210\n"
     ]
    },
    {
     "data": {
      "text/plain": [
       "<keras.callbacks.History at 0x149234814a8>"
      ]
     },
     "execution_count": 23,
     "metadata": {},
     "output_type": "execute_result"
    }
   ],
   "source": [
    "optimal_num_epochs = 9\n",
    "\n",
    "from keras import layers\n",
    "from keras import models\n",
    "\n",
    "model = models.Sequential()\n",
    "model.add(layers.Dense(64, activation='relu', input_shape=(x_train.shape[-1],)))\n",
    "model.add(layers.Dense(64, activation='relu'))\n",
    "model.add(layers.Dense(46, activation='softmax'))\n",
    "\n",
    "from keras import optimizers\n",
    "from keras import losses\n",
    "from keras import metrics\n",
    "\n",
    "model.compile(optimizers.RMSprop(lr=0.001), \n",
    "              losses.categorical_crossentropy, \n",
    "              [metrics.categorical_accuracy])\n",
    "\n",
    "model.fit(partial_x_train, \n",
    "                    partial_y_train, \n",
    "                    batch_size=512, \n",
    "                    epochs=optimal_num_epochs, \n",
    "                    validation_data=(x_val, y_val),\n",
    "                    verbose=0)"
   ]
  },
  {
   "cell_type": "markdown",
   "metadata": {},
   "source": [
    "## Apply the model to test set to evaluate its performance"
   ]
  },
  {
   "cell_type": "code",
   "execution_count": 24,
   "metadata": {},
   "outputs": [
    {
     "name": "stdout",
     "output_type": "stream",
     "text": [
      "2246/2246 [==============================] - 0s 88us/step\n"
     ]
    },
    {
     "data": {
      "text/plain": [
       "[0.98393748853213, 0.7858414966297914]"
      ]
     },
     "execution_count": 24,
     "metadata": {},
     "output_type": "execute_result"
    }
   ],
   "source": [
    "model.evaluate(x_test, y_test, batch_size=512)"
   ]
  },
  {
   "cell_type": "code",
   "execution_count": 25,
   "metadata": {},
   "outputs": [
    {
     "data": {
      "text/plain": [
       "['loss', 'categorical_accuracy']"
      ]
     },
     "execution_count": 25,
     "metadata": {},
     "output_type": "execute_result"
    }
   ],
   "source": [
    "model.metrics_names"
   ]
  },
  {
   "cell_type": "code",
   "execution_count": 26,
   "metadata": {},
   "outputs": [
    {
     "data": {
      "text/plain": [
       "array([[9.43542473e-05, 4.51649794e-05, 9.66501648e-06, ...,\n",
       "        7.44619028e-05, 2.81968878e-05, 3.73166904e-06],\n",
       "       [1.97803136e-03, 2.27266371e-01, 1.94406002e-05, ...,\n",
       "        2.27143220e-03, 6.52188755e-05, 1.11515669e-03],\n",
       "       [3.17659578e-03, 8.17157805e-01, 5.89298957e-04, ...,\n",
       "        1.35484221e-03, 2.96936632e-04, 2.84687761e-04],\n",
       "       ...,\n",
       "       [3.53586329e-05, 2.87334668e-04, 1.95602897e-05, ...,\n",
       "        4.23459496e-05, 1.03075681e-05, 6.05685500e-06],\n",
       "       [2.53466261e-03, 1.03894874e-01, 6.47467049e-03, ...,\n",
       "        2.08587269e-03, 3.02017375e-04, 5.95839520e-04],\n",
       "       [9.50003960e-05, 8.94641399e-01, 1.46866124e-03, ...,\n",
       "        6.13890996e-04, 9.69596476e-06, 5.04090240e-05]], dtype=float32)"
      ]
     },
     "execution_count": 26,
     "metadata": {},
     "output_type": "execute_result"
    }
   ],
   "source": [
    "y_pred = model.predict(x_test)\n",
    "y_pred"
   ]
  },
  {
   "cell_type": "code",
   "execution_count": 27,
   "metadata": {},
   "outputs": [
    {
     "data": {
      "text/plain": [
       "array([ 3, 10,  1, ...,  3,  3,  1], dtype=int64)"
      ]
     },
     "execution_count": 27,
     "metadata": {},
     "output_type": "execute_result"
    }
   ],
   "source": [
    "y_pred = np.argmax(y_pred, axis=-1)\n",
    "y_pred"
   ]
  },
  {
   "cell_type": "code",
   "execution_count": 28,
   "metadata": {},
   "outputs": [
    {
     "data": {
      "text/plain": [
       "array([[ 6,  3,  0, ...,  0,  0,  0],\n",
       "       [ 0, 88,  0, ...,  0,  0,  0],\n",
       "       [ 0,  2, 11, ...,  0,  0,  0],\n",
       "       ...,\n",
       "       [ 0,  0,  0, ...,  2,  0,  0],\n",
       "       [ 0,  0,  0, ...,  0,  4,  0],\n",
       "       [ 0,  0,  0, ...,  0,  0,  0]], dtype=int64)"
      ]
     },
     "execution_count": 28,
     "metadata": {},
     "output_type": "execute_result"
    }
   ],
   "source": [
    "from sklearn.metrics import confusion_matrix\n",
    "\n",
    "cm = confusion_matrix(np.argmax(y_test, axis=-1), y_pred)\n",
    "cm"
   ]
  },
  {
   "cell_type": "code",
   "execution_count": 29,
   "metadata": {},
   "outputs": [
    {
     "data": {
      "text/plain": [
       "0.7858414959928762"
      ]
     },
     "execution_count": 29,
     "metadata": {},
     "output_type": "execute_result"
    }
   ],
   "source": [
    "sum(cm.diagonal()) / len(y_test)"
   ]
  },
  {
   "cell_type": "code",
   "execution_count": 30,
   "metadata": {},
   "outputs": [
    {
     "data": {
      "text/plain": [
       "0.19056099732858414"
      ]
     },
     "execution_count": 30,
     "metadata": {},
     "output_type": "execute_result"
    }
   ],
   "source": [
    "# base line accuracy: random pred classes\n",
    "import copy\n",
    "\n",
    "y_test_copy = copy.copy(np.argmax(y_test, axis=-1))\n",
    "np.random.shuffle(y_test_copy)\n",
    "hits_arr = np.argmax(y_test, axis=-1) == np.array(y_test_copy)\n",
    "sum(hits_arr) / len(y_test)"
   ]
  },
  {
   "cell_type": "markdown",
   "metadata": {},
   "source": [
    "## Try Network 2 : with Dense's nodes < num_classes"
   ]
  },
  {
   "cell_type": "code",
   "execution_count": 34,
   "metadata": {
    "collapsed": true
   },
   "outputs": [
    {
     "name": "stdout",
     "output_type": "stream",
     "text": [
      "Train on 7982 samples, validate on 1000 samples\n",
      "Epoch 1/20\n",
      "7982/7982 [==============================] - 1s 162us/step - loss: 3.3344 - categorical_accuracy: 0.3302 - val_loss: 2.8952 - val_categorical_accuracy: 0.3650\n",
      "Epoch 2/20\n",
      "7982/7982 [==============================] - 1s 128us/step - loss: 2.5871 - categorical_accuracy: 0.3795 - val_loss: 2.3468 - val_categorical_accuracy: 0.3780\n",
      "Epoch 3/20\n",
      "7982/7982 [==============================] - 1s 128us/step - loss: 2.1071 - categorical_accuracy: 0.3908 - val_loss: 2.0111 - val_categorical_accuracy: 0.3890\n",
      "Epoch 4/20\n",
      "7982/7982 [==============================] - 1s 130us/step - loss: 1.8115 - categorical_accuracy: 0.5173 - val_loss: 1.7974 - val_categorical_accuracy: 0.5600\n",
      "Epoch 5/20\n",
      "7982/7982 [==============================] - 1s 130us/step - loss: 1.6017 - categorical_accuracy: 0.6196 - val_loss: 1.6459 - val_categorical_accuracy: 0.6090\n",
      "Epoch 6/20\n",
      "7982/7982 [==============================] - 1s 131us/step - loss: 1.4488 - categorical_accuracy: 0.6561 - val_loss: 1.5520 - val_categorical_accuracy: 0.6270\n",
      "Epoch 7/20\n",
      "7982/7982 [==============================] - 1s 128us/step - loss: 1.3355 - categorical_accuracy: 0.6738 - val_loss: 1.5022 - val_categorical_accuracy: 0.6420\n",
      "Epoch 8/20\n",
      "7982/7982 [==============================] - 1s 128us/step - loss: 1.2519 - categorical_accuracy: 0.6908 - val_loss: 1.4509 - val_categorical_accuracy: 0.6500\n",
      "Epoch 9/20\n",
      "7982/7982 [==============================] - 1s 128us/step - loss: 1.1870 - categorical_accuracy: 0.6974 - val_loss: 1.4246 - val_categorical_accuracy: 0.6520\n",
      "Epoch 10/20\n",
      "7982/7982 [==============================] - 1s 128us/step - loss: 1.1336 - categorical_accuracy: 0.7043 - val_loss: 1.3975 - val_categorical_accuracy: 0.6550\n",
      "Epoch 11/20\n",
      "7982/7982 [==============================] - 1s 130us/step - loss: 1.0894 - categorical_accuracy: 0.7081 - val_loss: 1.3891 - val_categorical_accuracy: 0.6600\n",
      "Epoch 12/20\n",
      "7982/7982 [==============================] - 1s 134us/step - loss: 1.0519 - categorical_accuracy: 0.7124 - val_loss: 1.3834 - val_categorical_accuracy: 0.6600\n",
      "Epoch 13/20\n",
      "7982/7982 [==============================] - 1s 131us/step - loss: 1.0196 - categorical_accuracy: 0.7169 - val_loss: 1.3802 - val_categorical_accuracy: 0.6610\n",
      "Epoch 14/20\n",
      "7982/7982 [==============================] - 1s 132us/step - loss: 0.9878 - categorical_accuracy: 0.7212 - val_loss: 1.4133 - val_categorical_accuracy: 0.6590\n",
      "Epoch 15/20\n",
      "7982/7982 [==============================] - 1s 131us/step - loss: 0.9606 - categorical_accuracy: 0.7260 - val_loss: 1.3922 - val_categorical_accuracy: 0.6670\n",
      "Epoch 16/20\n",
      "7982/7982 [==============================] - 1s 132us/step - loss: 0.9332 - categorical_accuracy: 0.7379 - val_loss: 1.4005 - val_categorical_accuracy: 0.6670\n",
      "Epoch 17/20\n",
      "7982/7982 [==============================] - 1s 130us/step - loss: 0.9078 - categorical_accuracy: 0.7481 - val_loss: 1.4176 - val_categorical_accuracy: 0.6670\n",
      "Epoch 18/20\n",
      "7982/7982 [==============================] - 1s 127us/step - loss: 0.8862 - categorical_accuracy: 0.7546 - val_loss: 1.4242 - val_categorical_accuracy: 0.6710\n",
      "Epoch 19/20\n",
      "7982/7982 [==============================] - 1s 131us/step - loss: 0.8643 - categorical_accuracy: 0.7613 - val_loss: 1.4380 - val_categorical_accuracy: 0.6750\n",
      "Epoch 20/20\n",
      "7982/7982 [==============================] - 1s 132us/step - loss: 0.8415 - categorical_accuracy: 0.7685 - val_loss: 1.4389 - val_categorical_accuracy: 0.6730\n"
     ]
    }
   ],
   "source": [
    "less_than_46 = 4\n",
    "\n",
    "from keras import layers\n",
    "from keras import models\n",
    "\n",
    "model = models.Sequential()\n",
    "model.add(layers.Dense(64, activation='relu', input_shape=(x_train.shape[-1],)))\n",
    "model.add(layers.Dense(less_than_46, activation='relu'))\n",
    "model.add(layers.Dense(46, activation='softmax'))\n",
    "\n",
    "from keras import optimizers\n",
    "from keras import losses\n",
    "from keras import metrics\n",
    "\n",
    "model.compile(optimizers.RMSprop(lr=0.001), \n",
    "              losses.categorical_crossentropy, \n",
    "              [metrics.categorical_accuracy])\n",
    "\n",
    "history = model.fit(partial_x_train, \n",
    "                    partial_y_train, \n",
    "                    batch_size=512, \n",
    "                    epochs=20, \n",
    "                    validation_data=(x_val, y_val),\n",
    "                    verbose=0)"
   ]
  },
  {
   "cell_type": "code",
   "execution_count": 35,
   "metadata": {},
   "outputs": [
    {
     "data": {
      "text/plain": [
       "dict_keys(['val_loss', 'val_categorical_accuracy', 'loss', 'categorical_accuracy'])"
      ]
     },
     "execution_count": 35,
     "metadata": {},
     "output_type": "execute_result"
    }
   ],
   "source": [
    "history.history.keys()"
   ]
  },
  {
   "cell_type": "code",
   "execution_count": 36,
   "metadata": {},
   "outputs": [
    {
     "data": {
      "image/png": "[encoded data removed]",
      "text/plain": [
       "<Figure size 432x288 with 1 Axes>"
      ]
     },
     "metadata": {},
     "output_type": "display_data"
    }
   ],
   "source": [
    "import matplotlib.pyplot as plt\n",
    "%matplotlib inline\n",
    "\n",
    "plt.plot(history.epoch, history.history['categorical_accuracy'], label='categorical_accuracy')\n",
    "plt.plot(history.epoch, history.history['val_categorical_accuracy'], label='val_categorical_accuracy')\n",
    "plt.title('Training and validation accuracy')\n",
    "plt.xlabel('Epochs')\n",
    "plt.ylabel('Accuracy')\n",
    "plt.legend()\n",
    "plt.show()"
   ]
  },
  {
   "cell_type": "code",
   "execution_count": null,
   "metadata": {},
   "outputs": [],
   "source": []
  }
 ],
 "metadata": {
  "kernelspec": {
   "display_name": "Python 3",
   "language": "python",
   "name": "python3"
  },
  "language_info": {
   "codemirror_mode": {
    "name": "ipython",
    "version": 3
   },
   "file_extension": ".py",
   "mimetype": "text/x-python",
   "name": "python",
   "nbconvert_exporter": "python",
   "pygments_lexer": "ipython3",
   "version": "3.5.2"
  }
 },
 "nbformat": 4,
 "nbformat_minor": 2
}
